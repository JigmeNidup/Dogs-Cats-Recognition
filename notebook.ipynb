{
 "cells": [
  {
   "cell_type": "code",
   "execution_count": 1,
   "metadata": {},
   "outputs": [
    {
     "name": "stdout",
     "output_type": "stream",
     "text": [
      "WARNING:tensorflow:From c:\\Users\\user\\AppData\\Local\\Programs\\Python\\Python311\\Lib\\site-packages\\keras\\src\\losses.py:2976: The name tf.losses.sparse_softmax_cross_entropy is deprecated. Please use tf.compat.v1.losses.sparse_softmax_cross_entropy instead.\n",
      "\n"
     ]
    }
   ],
   "source": [
    "from tensorflow import keras\n",
    "from keras.models import Model,Sequential\n",
    "from keras.layers import Input, Conv2D,  BatchNormalization, Add, Activation, MaxPooling2D, concatenate, Flatten, Dense, AveragePooling2D, Dropout\n",
    "from keras.optimizers import Adam, SGD\n",
    "from keras.datasets import mnist\n",
    "from keras import applications \n",
    "from tensorflow.keras import layers, Sequential\n",
    "from keras.callbacks import ModelCheckpoint, EarlyStopping,ReduceLROnPlateau"
   ]
  },
  {
   "cell_type": "code",
   "execution_count": 2,
   "metadata": {},
   "outputs": [],
   "source": [
    "import os\n",
    "from PIL import Image\n",
    "import numpy as np\n",
    "from sklearn.model_selection import train_test_split"
   ]
  },
  {
   "cell_type": "code",
   "execution_count": 3,
   "metadata": {},
   "outputs": [],
   "source": [
    "dataset_folder = 'training_data'\n",
    "\n",
    "# List of class names\n",
    "class_names = ['cats','dogs']\n",
    "\n",
    "# Load and preprocess images\n",
    "data = []\n",
    "labels = []"
   ]
  },
  {
   "cell_type": "code",
   "execution_count": 4,
   "metadata": {},
   "outputs": [],
   "source": [
    "for class_idx, class_name in enumerate(class_names):\n",
    "    class_folder = os.path.join(dataset_folder, class_name)\n",
    "    for img_file in os.listdir(class_folder):\n",
    "        img_path = os.path.join(class_folder, img_file)\n",
    "        img = Image.open(img_path)\n",
    "        img = img.resize((32, 32))\n",
    "        img_array = np.array(img)\n",
    "        data.append(img_array)\n",
    "        labels.append(class_idx)"
   ]
  },
  {
   "cell_type": "code",
   "execution_count": 5,
   "metadata": {},
   "outputs": [],
   "source": [
    "# Convert to numpy arrays\n",
    "data = np.array(data)\n",
    "labels = np.array(labels)\n",
    "\n",
    "# Split the data into training, validation, and testing sets\n",
    "x_train, x_test, y_train, y_test = train_test_split(data, labels, test_size=0.2, random_state=42, stratify=labels)\n",
    "x_train, x_val, y_train, y_val = train_test_split(x_train, y_train, test_size=0.2, random_state=42, stratify=y_train)\n"
   ]
  },
  {
   "cell_type": "code",
   "execution_count": 6,
   "metadata": {},
   "outputs": [],
   "source": [
    "x_train = x_train / 255.0\n",
    "x_val = x_val / 255.0\n",
    "x_test = x_test / 255.0"
   ]
  },
  {
   "cell_type": "code",
   "execution_count": 7,
   "metadata": {},
   "outputs": [],
   "source": [
    "# Convert labels to one-hot encoding\n",
    "y_train = keras.utils.to_categorical(y_train, 4)\n",
    "y_val = keras.utils.to_categorical(y_val, 4)\n",
    "y_test = keras.utils.to_categorical(y_test, 4)\n",
    "\n",
    "checkpoint = ModelCheckpoint('best_model1_weights.h5', monitor='val_accuracy', save_best_only=True)\n",
    "early_stopping=EarlyStopping(monitor='val_acc',mode='auto',patience=5,restore_best_weights=True)\n"
   ]
  },
  {
   "cell_type": "code",
   "execution_count": 8,
   "metadata": {},
   "outputs": [
    {
     "name": "stdout",
     "output_type": "stream",
     "text": [
      "WARNING:tensorflow:From c:\\Users\\user\\AppData\\Local\\Programs\\Python\\Python311\\Lib\\site-packages\\keras\\src\\backend.py:873: The name tf.get_default_graph is deprecated. Please use tf.compat.v1.get_default_graph instead.\n",
      "\n",
      "WARNING:tensorflow:From c:\\Users\\user\\AppData\\Local\\Programs\\Python\\Python311\\Lib\\site-packages\\keras\\src\\layers\\pooling\\max_pooling2d.py:161: The name tf.nn.max_pool is deprecated. Please use tf.nn.max_pool2d instead.\n",
      "\n"
     ]
    }
   ],
   "source": [
    "#custom Model\n",
    "customModel = Sequential()\n",
    "customModel=Sequential(\n",
    "    [\n",
    "        layers.Conv2D(512,3,input_shape=(32,32,3),padding='same',activation='relu'),\n",
    "        layers.BatchNormalization(),\n",
    "        layers.MaxPooling2D(),\n",
    "        layers.Conv2D(256,3,padding='same',activation='relu'),\n",
    "        layers.Conv2D(256,3,padding='same',activation='relu'),\n",
    "        layers.BatchNormalization(),\n",
    "        layers.MaxPooling2D(),\n",
    "        layers.Conv2D(128,3,padding='same',activation='relu'),\n",
    "        layers.Conv2D(128,3,padding='same',activation='relu'),\n",
    "        layers.BatchNormalization(),\n",
    "        layers.MaxPooling2D(),\n",
    "        layers.Conv2D(64,3,padding='same',activation='relu'),\n",
    "        layers.Conv2D(64,3,padding='same',activation='relu'),\n",
    "        layers.BatchNormalization(),        \n",
    "        layers.MaxPooling2D(),\n",
    "        layers.Conv2D(32,3,padding='same',activation='relu'),\n",
    "        layers.Conv2D(32,3,padding='same',activation='relu'),\n",
    "        layers.BatchNormalization(),        \n",
    "        layers.MaxPooling2D(),\n",
    "        layers.Flatten(),\n",
    "\n",
    "        layers.Dense(512,activation='relu'),\n",
    "        layers.Dense(256,activation='relu'),\n",
    "        layers.Dense(128,activation='relu'),\n",
    "        layers.Dense(4,activation='softmax'),\n",
    "    ]\n",
    ")"
   ]
  },
  {
   "cell_type": "code",
   "execution_count": 9,
   "metadata": {},
   "outputs": [
    {
     "name": "stdout",
     "output_type": "stream",
     "text": [
      "WARNING:tensorflow:From c:\\Users\\user\\AppData\\Local\\Programs\\Python\\Python311\\Lib\\site-packages\\keras\\src\\optimizers\\__init__.py:309: The name tf.train.Optimizer is deprecated. Please use tf.compat.v1.train.Optimizer instead.\n",
      "\n",
      "Model: \"sequential_1\"\n",
      "_________________________________________________________________\n",
      " Layer (type)                Output Shape              Param #   \n",
      "=================================================================\n",
      " conv2d (Conv2D)             (None, 32, 32, 512)       14336     \n",
      "                                                                 \n",
      " batch_normalization (Batch  (None, 32, 32, 512)       2048      \n",
      " Normalization)                                                  \n",
      "                                                                 \n",
      " max_pooling2d (MaxPooling2  (None, 16, 16, 512)       0         \n",
      " D)                                                              \n",
      "                                                                 \n",
      " conv2d_1 (Conv2D)           (None, 16, 16, 256)       1179904   \n",
      "                                                                 \n",
      " conv2d_2 (Conv2D)           (None, 16, 16, 256)       590080    \n",
      "                                                                 \n",
      " batch_normalization_1 (Bat  (None, 16, 16, 256)       1024      \n",
      " chNormalization)                                                \n",
      "                                                                 \n",
      " max_pooling2d_1 (MaxPoolin  (None, 8, 8, 256)         0         \n",
      " g2D)                                                            \n",
      "                                                                 \n",
      " conv2d_3 (Conv2D)           (None, 8, 8, 128)         295040    \n",
      "                                                                 \n",
      " conv2d_4 (Conv2D)           (None, 8, 8, 128)         147584    \n",
      "                                                                 \n",
      " batch_normalization_2 (Bat  (None, 8, 8, 128)         512       \n",
      " chNormalization)                                                \n",
      "                                                                 \n",
      " max_pooling2d_2 (MaxPoolin  (None, 4, 4, 128)         0         \n",
      " g2D)                                                            \n",
      "                                                                 \n",
      " conv2d_5 (Conv2D)           (None, 4, 4, 64)          73792     \n",
      "                                                                 \n",
      " conv2d_6 (Conv2D)           (None, 4, 4, 64)          36928     \n",
      "                                                                 \n",
      " batch_normalization_3 (Bat  (None, 4, 4, 64)          256       \n",
      " chNormalization)                                                \n",
      "                                                                 \n",
      " max_pooling2d_3 (MaxPoolin  (None, 2, 2, 64)          0         \n",
      " g2D)                                                            \n",
      "                                                                 \n",
      " conv2d_7 (Conv2D)           (None, 2, 2, 32)          18464     \n",
      "                                                                 \n",
      " conv2d_8 (Conv2D)           (None, 2, 2, 32)          9248      \n",
      "                                                                 \n",
      " batch_normalization_4 (Bat  (None, 2, 2, 32)          128       \n",
      " chNormalization)                                                \n",
      "                                                                 \n",
      " max_pooling2d_4 (MaxPoolin  (None, 1, 1, 32)          0         \n",
      " g2D)                                                            \n",
      "                                                                 \n",
      " flatten (Flatten)           (None, 32)                0         \n",
      "                                                                 \n",
      " dense (Dense)               (None, 512)               16896     \n",
      "                                                                 \n",
      " dense_1 (Dense)             (None, 256)               131328    \n",
      "                                                                 \n",
      " dense_2 (Dense)             (None, 128)               32896     \n",
      "                                                                 \n",
      " dense_3 (Dense)             (None, 4)                 516       \n",
      "                                                                 \n",
      "=================================================================\n",
      "Total params: 2550980 (9.73 MB)\n",
      "Trainable params: 2548996 (9.72 MB)\n",
      "Non-trainable params: 1984 (7.75 KB)\n",
      "_________________________________________________________________\n"
     ]
    }
   ],
   "source": [
    "customModel.compile(optimizer='adam',\n",
    "              loss='categorical_crossentropy',\n",
    "              metrics=['accuracy'])\n",
    "\n",
    "customModel.summary()"
   ]
  },
  {
   "cell_type": "code",
   "execution_count": 10,
   "metadata": {},
   "outputs": [
    {
     "data": {
      "text/plain": [
       "(6400, 4)"
      ]
     },
     "execution_count": 10,
     "metadata": {},
     "output_type": "execute_result"
    }
   ],
   "source": [
    "y_train.shape"
   ]
  },
  {
   "cell_type": "code",
   "execution_count": 11,
   "metadata": {},
   "outputs": [
    {
     "name": "stdout",
     "output_type": "stream",
     "text": [
      "Epoch 1/35\n",
      "WARNING:tensorflow:From c:\\Users\\user\\AppData\\Local\\Programs\\Python\\Python311\\Lib\\site-packages\\keras\\src\\utils\\tf_utils.py:492: The name tf.ragged.RaggedTensorValue is deprecated. Please use tf.compat.v1.ragged.RaggedTensorValue instead.\n",
      "\n",
      "WARNING:tensorflow:From c:\\Users\\user\\AppData\\Local\\Programs\\Python\\Python311\\Lib\\site-packages\\keras\\src\\engine\\base_layer_utils.py:384: The name tf.executing_eagerly_outside_functions is deprecated. Please use tf.compat.v1.executing_eagerly_outside_functions instead.\n",
      "\n",
      "200/200 [==============================] - ETA: 0s - loss: 0.6961 - accuracy: 0.5612"
     ]
    },
    {
     "name": "stderr",
     "output_type": "stream",
     "text": [
      "c:\\Users\\user\\AppData\\Local\\Programs\\Python\\Python311\\Lib\\site-packages\\keras\\src\\engine\\training.py:3103: UserWarning: You are saving your model as an HDF5 file via `model.save()`. This file format is considered legacy. We recommend using instead the native Keras format, e.g. `model.save('my_model.keras')`.\n",
      "  saving_api.save_model(\n"
     ]
    },
    {
     "name": "stdout",
     "output_type": "stream",
     "text": [
      "WARNING:tensorflow:Early stopping conditioned on metric `val_acc` which is not available. Available metrics are: loss,accuracy,val_loss,val_accuracy\n",
      "200/200 [==============================] - 134s 662ms/step - loss: 0.6961 - accuracy: 0.5612 - val_loss: 0.6896 - val_accuracy: 0.5394\n",
      "Epoch 2/35\n",
      "200/200 [==============================] - ETA: 0s - loss: 0.6326 - accuracy: 0.6403WARNING:tensorflow:Early stopping conditioned on metric `val_acc` which is not available. Available metrics are: loss,accuracy,val_loss,val_accuracy\n",
      "200/200 [==============================] - 125s 623ms/step - loss: 0.6326 - accuracy: 0.6403 - val_loss: 0.8039 - val_accuracy: 0.4944\n",
      "Epoch 3/35\n",
      "200/200 [==============================] - ETA: 0s - loss: 0.5822 - accuracy: 0.7003WARNING:tensorflow:Early stopping conditioned on metric `val_acc` which is not available. Available metrics are: loss,accuracy,val_loss,val_accuracy\n",
      "200/200 [==============================] - 58s 288ms/step - loss: 0.5822 - accuracy: 0.7003 - val_loss: 0.6081 - val_accuracy: 0.6794\n",
      "Epoch 4/35\n",
      "200/200 [==============================] - ETA: 0s - loss: 0.5420 - accuracy: 0.7337WARNING:tensorflow:Early stopping conditioned on metric `val_acc` which is not available. Available metrics are: loss,accuracy,val_loss,val_accuracy\n",
      "200/200 [==============================] - 58s 292ms/step - loss: 0.5420 - accuracy: 0.7337 - val_loss: 0.6881 - val_accuracy: 0.6419\n",
      "Epoch 5/35\n",
      "200/200 [==============================] - ETA: 0s - loss: 0.5075 - accuracy: 0.7528WARNING:tensorflow:Early stopping conditioned on metric `val_acc` which is not available. Available metrics are: loss,accuracy,val_loss,val_accuracy\n",
      "200/200 [==============================] - 62s 310ms/step - loss: 0.5075 - accuracy: 0.7528 - val_loss: 1.1929 - val_accuracy: 0.5569\n",
      "Epoch 6/35\n",
      "200/200 [==============================] - ETA: 0s - loss: 0.4732 - accuracy: 0.7805WARNING:tensorflow:Early stopping conditioned on metric `val_acc` which is not available. Available metrics are: loss,accuracy,val_loss,val_accuracy\n",
      "200/200 [==============================] - 68s 341ms/step - loss: 0.4732 - accuracy: 0.7805 - val_loss: 0.6710 - val_accuracy: 0.6800\n",
      "Epoch 7/35\n",
      "200/200 [==============================] - ETA: 0s - loss: 0.4444 - accuracy: 0.7980WARNING:tensorflow:Early stopping conditioned on metric `val_acc` which is not available. Available metrics are: loss,accuracy,val_loss,val_accuracy\n",
      "200/200 [==============================] - 68s 340ms/step - loss: 0.4444 - accuracy: 0.7980 - val_loss: 0.6614 - val_accuracy: 0.6744\n",
      "Epoch 8/35\n",
      "200/200 [==============================] - ETA: 0s - loss: 0.4001 - accuracy: 0.8227WARNING:tensorflow:Early stopping conditioned on metric `val_acc` which is not available. Available metrics are: loss,accuracy,val_loss,val_accuracy\n",
      "200/200 [==============================] - 67s 336ms/step - loss: 0.4001 - accuracy: 0.8227 - val_loss: 0.6715 - val_accuracy: 0.6725\n",
      "Epoch 9/35\n",
      "200/200 [==============================] - ETA: 0s - loss: 0.3612 - accuracy: 0.8430WARNING:tensorflow:Early stopping conditioned on metric `val_acc` which is not available. Available metrics are: loss,accuracy,val_loss,val_accuracy\n",
      "200/200 [==============================] - 70s 348ms/step - loss: 0.3612 - accuracy: 0.8430 - val_loss: 0.6000 - val_accuracy: 0.7450\n",
      "Epoch 10/35\n",
      "200/200 [==============================] - ETA: 0s - loss: 0.3194 - accuracy: 0.8658WARNING:tensorflow:Early stopping conditioned on metric `val_acc` which is not available. Available metrics are: loss,accuracy,val_loss,val_accuracy\n",
      "200/200 [==============================] - 66s 330ms/step - loss: 0.3194 - accuracy: 0.8658 - val_loss: 0.8151 - val_accuracy: 0.6975\n",
      "Epoch 11/35\n",
      "200/200 [==============================] - ETA: 0s - loss: 0.2588 - accuracy: 0.8911WARNING:tensorflow:Early stopping conditioned on metric `val_acc` which is not available. Available metrics are: loss,accuracy,val_loss,val_accuracy\n",
      "200/200 [==============================] - 69s 347ms/step - loss: 0.2588 - accuracy: 0.8911 - val_loss: 0.9696 - val_accuracy: 0.6631\n",
      "Epoch 12/35\n",
      "200/200 [==============================] - ETA: 0s - loss: 0.2219 - accuracy: 0.9077WARNING:tensorflow:Early stopping conditioned on metric `val_acc` which is not available. Available metrics are: loss,accuracy,val_loss,val_accuracy\n",
      "200/200 [==============================] - 66s 332ms/step - loss: 0.2219 - accuracy: 0.9077 - val_loss: 0.7248 - val_accuracy: 0.7481\n",
      "Epoch 13/35\n",
      "200/200 [==============================] - ETA: 0s - loss: 0.1609 - accuracy: 0.9388WARNING:tensorflow:Early stopping conditioned on metric `val_acc` which is not available. Available metrics are: loss,accuracy,val_loss,val_accuracy\n",
      "200/200 [==============================] - 71s 353ms/step - loss: 0.1609 - accuracy: 0.9388 - val_loss: 0.7954 - val_accuracy: 0.7337\n",
      "Epoch 14/35\n",
      "200/200 [==============================] - ETA: 0s - loss: 0.1364 - accuracy: 0.9484WARNING:tensorflow:Early stopping conditioned on metric `val_acc` which is not available. Available metrics are: loss,accuracy,val_loss,val_accuracy\n",
      "200/200 [==============================] - 65s 324ms/step - loss: 0.1364 - accuracy: 0.9484 - val_loss: 0.7262 - val_accuracy: 0.7763\n",
      "Epoch 15/35\n",
      "200/200 [==============================] - ETA: 0s - loss: 0.0949 - accuracy: 0.9659WARNING:tensorflow:Early stopping conditioned on metric `val_acc` which is not available. Available metrics are: loss,accuracy,val_loss,val_accuracy\n",
      "200/200 [==============================] - 71s 354ms/step - loss: 0.0949 - accuracy: 0.9659 - val_loss: 0.9228 - val_accuracy: 0.7225\n",
      "Epoch 16/35\n",
      "200/200 [==============================] - ETA: 0s - loss: 0.0893 - accuracy: 0.9672WARNING:tensorflow:Early stopping conditioned on metric `val_acc` which is not available. Available metrics are: loss,accuracy,val_loss,val_accuracy\n",
      "200/200 [==============================] - 65s 327ms/step - loss: 0.0893 - accuracy: 0.9672 - val_loss: 0.9529 - val_accuracy: 0.7300\n",
      "Epoch 17/35\n",
      "200/200 [==============================] - ETA: 0s - loss: 0.0785 - accuracy: 0.9705WARNING:tensorflow:Early stopping conditioned on metric `val_acc` which is not available. Available metrics are: loss,accuracy,val_loss,val_accuracy\n",
      "200/200 [==============================] - 69s 347ms/step - loss: 0.0785 - accuracy: 0.9705 - val_loss: 0.8840 - val_accuracy: 0.7494\n",
      "Epoch 18/35\n",
      "200/200 [==============================] - ETA: 0s - loss: 0.0699 - accuracy: 0.9723WARNING:tensorflow:Early stopping conditioned on metric `val_acc` which is not available. Available metrics are: loss,accuracy,val_loss,val_accuracy\n",
      "200/200 [==============================] - 66s 329ms/step - loss: 0.0699 - accuracy: 0.9723 - val_loss: 0.9657 - val_accuracy: 0.7431\n",
      "Epoch 19/35\n",
      "200/200 [==============================] - ETA: 0s - loss: 0.0539 - accuracy: 0.9822WARNING:tensorflow:Early stopping conditioned on metric `val_acc` which is not available. Available metrics are: loss,accuracy,val_loss,val_accuracy\n",
      "200/200 [==============================] - 68s 339ms/step - loss: 0.0539 - accuracy: 0.9822 - val_loss: 0.8667 - val_accuracy: 0.7781\n",
      "Epoch 20/35\n",
      "200/200 [==============================] - ETA: 0s - loss: 0.0510 - accuracy: 0.9820WARNING:tensorflow:Early stopping conditioned on metric `val_acc` which is not available. Available metrics are: loss,accuracy,val_loss,val_accuracy\n",
      "200/200 [==============================] - 68s 340ms/step - loss: 0.0510 - accuracy: 0.9820 - val_loss: 1.0794 - val_accuracy: 0.7694\n",
      "Epoch 21/35\n",
      "200/200 [==============================] - ETA: 0s - loss: 0.0452 - accuracy: 0.9845WARNING:tensorflow:Early stopping conditioned on metric `val_acc` which is not available. Available metrics are: loss,accuracy,val_loss,val_accuracy\n",
      "200/200 [==============================] - 65s 324ms/step - loss: 0.0452 - accuracy: 0.9845 - val_loss: 0.9976 - val_accuracy: 0.7719\n",
      "Epoch 22/35\n",
      "200/200 [==============================] - ETA: 0s - loss: 0.0434 - accuracy: 0.9839WARNING:tensorflow:Early stopping conditioned on metric `val_acc` which is not available. Available metrics are: loss,accuracy,val_loss,val_accuracy\n",
      "200/200 [==============================] - 69s 346ms/step - loss: 0.0434 - accuracy: 0.9839 - val_loss: 1.3394 - val_accuracy: 0.7425\n",
      "Epoch 23/35\n",
      "200/200 [==============================] - ETA: 0s - loss: 0.0338 - accuracy: 0.9884WARNING:tensorflow:Early stopping conditioned on metric `val_acc` which is not available. Available metrics are: loss,accuracy,val_loss,val_accuracy\n",
      "200/200 [==============================] - 64s 320ms/step - loss: 0.0338 - accuracy: 0.9884 - val_loss: 1.1829 - val_accuracy: 0.7769\n",
      "Epoch 24/35\n",
      "200/200 [==============================] - ETA: 0s - loss: 0.0376 - accuracy: 0.9867WARNING:tensorflow:Early stopping conditioned on metric `val_acc` which is not available. Available metrics are: loss,accuracy,val_loss,val_accuracy\n",
      "200/200 [==============================] - 68s 339ms/step - loss: 0.0376 - accuracy: 0.9867 - val_loss: 1.2013 - val_accuracy: 0.7794\n",
      "Epoch 25/35\n",
      "200/200 [==============================] - ETA: 0s - loss: 0.0394 - accuracy: 0.9866WARNING:tensorflow:Early stopping conditioned on metric `val_acc` which is not available. Available metrics are: loss,accuracy,val_loss,val_accuracy\n",
      "200/200 [==============================] - 66s 332ms/step - loss: 0.0394 - accuracy: 0.9866 - val_loss: 1.1560 - val_accuracy: 0.7563\n",
      "Epoch 26/35\n",
      "200/200 [==============================] - ETA: 0s - loss: 0.0276 - accuracy: 0.9894WARNING:tensorflow:Early stopping conditioned on metric `val_acc` which is not available. Available metrics are: loss,accuracy,val_loss,val_accuracy\n",
      "200/200 [==============================] - 66s 331ms/step - loss: 0.0276 - accuracy: 0.9894 - val_loss: 1.3460 - val_accuracy: 0.7844\n",
      "Epoch 27/35\n",
      "200/200 [==============================] - ETA: 0s - loss: 0.0321 - accuracy: 0.9886WARNING:tensorflow:Early stopping conditioned on metric `val_acc` which is not available. Available metrics are: loss,accuracy,val_loss,val_accuracy\n",
      "200/200 [==============================] - 68s 340ms/step - loss: 0.0321 - accuracy: 0.9886 - val_loss: 1.1235 - val_accuracy: 0.7750\n",
      "Epoch 28/35\n",
      "200/200 [==============================] - ETA: 0s - loss: 0.0312 - accuracy: 0.9905WARNING:tensorflow:Early stopping conditioned on metric `val_acc` which is not available. Available metrics are: loss,accuracy,val_loss,val_accuracy\n",
      "200/200 [==============================] - 73s 367ms/step - loss: 0.0312 - accuracy: 0.9905 - val_loss: 1.0707 - val_accuracy: 0.7650\n",
      "Epoch 29/35\n",
      "200/200 [==============================] - ETA: 0s - loss: 0.0232 - accuracy: 0.9920WARNING:tensorflow:Early stopping conditioned on metric `val_acc` which is not available. Available metrics are: loss,accuracy,val_loss,val_accuracy\n",
      "200/200 [==============================] - 169s 846ms/step - loss: 0.0232 - accuracy: 0.9920 - val_loss: 0.8142 - val_accuracy: 0.7688\n",
      "Epoch 30/35\n",
      "200/200 [==============================] - ETA: 0s - loss: 0.0465 - accuracy: 0.9833WARNING:tensorflow:Early stopping conditioned on metric `val_acc` which is not available. Available metrics are: loss,accuracy,val_loss,val_accuracy\n",
      "200/200 [==============================] - 76s 376ms/step - loss: 0.0465 - accuracy: 0.9833 - val_loss: 0.8780 - val_accuracy: 0.7500\n",
      "Epoch 31/35\n",
      "200/200 [==============================] - ETA: 0s - loss: 0.0315 - accuracy: 0.9894WARNING:tensorflow:Early stopping conditioned on metric `val_acc` which is not available. Available metrics are: loss,accuracy,val_loss,val_accuracy\n",
      "200/200 [==============================] - 132s 660ms/step - loss: 0.0315 - accuracy: 0.9894 - val_loss: 1.3504 - val_accuracy: 0.7594\n",
      "Epoch 32/35\n",
      "200/200 [==============================] - ETA: 0s - loss: 0.0221 - accuracy: 0.9914WARNING:tensorflow:Early stopping conditioned on metric `val_acc` which is not available. Available metrics are: loss,accuracy,val_loss,val_accuracy\n",
      "200/200 [==============================] - 173s 866ms/step - loss: 0.0221 - accuracy: 0.9914 - val_loss: 1.4538 - val_accuracy: 0.7775\n",
      "Epoch 33/35\n",
      "200/200 [==============================] - ETA: 0s - loss: 0.0257 - accuracy: 0.9916WARNING:tensorflow:Early stopping conditioned on metric `val_acc` which is not available. Available metrics are: loss,accuracy,val_loss,val_accuracy\n",
      "200/200 [==============================] - 143s 716ms/step - loss: 0.0257 - accuracy: 0.9916 - val_loss: 1.1889 - val_accuracy: 0.7513\n",
      "Epoch 34/35\n",
      "200/200 [==============================] - ETA: 0s - loss: 0.0332 - accuracy: 0.9881WARNING:tensorflow:Early stopping conditioned on metric `val_acc` which is not available. Available metrics are: loss,accuracy,val_loss,val_accuracy\n",
      "200/200 [==============================] - 56s 280ms/step - loss: 0.0332 - accuracy: 0.9881 - val_loss: 1.1656 - val_accuracy: 0.7563\n",
      "Epoch 35/35\n",
      "200/200 [==============================] - ETA: 0s - loss: 0.0264 - accuracy: 0.9922WARNING:tensorflow:Early stopping conditioned on metric `val_acc` which is not available. Available metrics are: loss,accuracy,val_loss,val_accuracy\n",
      "200/200 [==============================] - 60s 298ms/step - loss: 0.0264 - accuracy: 0.9922 - val_loss: 1.4314 - val_accuracy: 0.7706\n"
     ]
    }
   ],
   "source": [
    "history = customModel.fit(\n",
    "    x_train,y_train,\n",
    "    epochs=35,\n",
    "    validation_data=(x_val, y_val),\n",
    "    callbacks=[checkpoint,early_stopping])"
   ]
  },
  {
   "cell_type": "code",
   "execution_count": 15,
   "metadata": {},
   "outputs": [
    {
     "name": "stdout",
     "output_type": "stream",
     "text": [
      "50/50 [==============================] - 3s 70ms/step - loss: 1.4314 - accuracy: 0.7706\n",
      "Validation accuracy :  0.7706249952316284\n"
     ]
    }
   ],
   "source": [
    "val_loss, val_acc = customModel.evaluate(x_val,y_val)\n",
    "print('Validation accuracy : ', val_acc)\n",
    "\n",
    "\n",
    "acc = history.history['accuracy']\n",
    "val_acc = history.history['val_accuracy']\n",
    "\n",
    "loss = history.history['loss']\n",
    "val_loss = history.history['val_loss']"
   ]
  },
  {
   "cell_type": "code",
   "execution_count": 16,
   "metadata": {},
   "outputs": [],
   "source": [
    "import matplotlib.pyplot as plt"
   ]
  },
  {
   "cell_type": "code",
   "execution_count": 17,
   "metadata": {},
   "outputs": [
    {
     "data": {
      "image/png": "[encoded data removed]",
      "text/plain": [
       "<Figure size 800x800 with 2 Axes>"
      ]
     },
     "metadata": {},
     "output_type": "display_data"
    }
   ],
   "source": [
    "plt.figure(figsize=(8, 8))\n",
    "plt.subplot(2, 1, 1)\n",
    "plt.plot(acc, label='Training Accuracy')\n",
    "plt.plot(val_acc, label='Validation Accuracy')\n",
    "plt.legend(loc='lower right')\n",
    "plt.ylabel('Accuracy')\n",
    "plt.ylim([min(plt.ylim()),1])\n",
    "plt.title('Training and Validation Accuracy')\n",
    "plt.subplot(2, 1, 2)\n",
    "plt.plot(loss, label='Training Loss')\n",
    "plt.plot(val_loss, label='Validation Loss')\n",
    "plt.legend(loc='upper right')\n",
    "plt.ylabel('Cross Entropy')\n",
    "plt.ylim([0,max(plt.ylim())])\n",
    "plt.title('Training and Validation Loss')\n",
    "plt.show()"
   ]
  },
  {
   "cell_type": "code",
   "execution_count": 22,
   "metadata": {},
   "outputs": [
    {
     "name": "stdout",
     "output_type": "stream",
     "text": [
      "63/63 [==============================] - 5s 69ms/step - loss: 1.4838 - accuracy: 0.7710\n"
     ]
    }
   ],
   "source": [
    "score = customModel.evaluate(x_test, y_test)"
   ]
  },
  {
   "cell_type": "code",
   "execution_count": 23,
   "metadata": {},
   "outputs": [
    {
     "name": "stdout",
     "output_type": "stream",
     "text": [
      "Test Loss: 1.4837841987609863\n",
      "Test accuracy: 0.7710000276565552\n"
     ]
    }
   ],
   "source": [
    "print('Test Loss:', score[0])\n",
    "print('Test accuracy:', score[1])"
   ]
  },
  {
   "cell_type": "code",
   "execution_count": 24,
   "metadata": {},
   "outputs": [
    {
     "name": "stdout",
     "output_type": "stream",
     "text": [
      "INFO:tensorflow:Assets written to: saved_model\\assets\n"
     ]
    },
    {
     "name": "stderr",
     "output_type": "stream",
     "text": [
      "INFO:tensorflow:Assets written to: saved_model\\assets\n"
     ]
    }
   ],
   "source": [
    "customModel.save('saved_model')"
   ]
  },
  {
   "cell_type": "code",
   "execution_count": null,
   "metadata": {},
   "outputs": [],
   "source": [
    "#prediction"
   ]
  },
  {
   "cell_type": "code",
   "execution_count": 25,
   "metadata": {},
   "outputs": [
    {
     "name": "stdout",
     "output_type": "stream",
     "text": [
      "WARNING:tensorflow:From c:\\Users\\user\\AppData\\Local\\Programs\\Python\\Python311\\Lib\\site-packages\\keras\\src\\saving\\legacy\\saved_model\\load.py:107: The name tf.gfile.Exists is deprecated. Please use tf.io.gfile.exists instead.\n",
      "\n"
     ]
    },
    {
     "name": "stderr",
     "output_type": "stream",
     "text": [
      "WARNING:tensorflow:From c:\\Users\\user\\AppData\\Local\\Programs\\Python\\Python311\\Lib\\site-packages\\keras\\src\\saving\\legacy\\saved_model\\load.py:107: The name tf.gfile.Exists is deprecated. Please use tf.io.gfile.exists instead.\n",
      "\n"
     ]
    }
   ],
   "source": [
    "import tensorflow as tf\n",
    "import numpy as np\n",
    "from PIL import Image\n",
    "import tensorflow as tf\n",
    "model = tf.keras.models.load_model('saved_model')"
   ]
  },
  {
   "cell_type": "code",
   "execution_count": 26,
   "metadata": {},
   "outputs": [],
   "source": [
    "def preprocess_image(image_path):\n",
    "    img = Image.open(image_path)\n",
    "    img = img.resize((32, 32))\n",
    "    \n",
    "    # Convert to RGB in case the image has an alpha channel\n",
    "    img = img.convert('RGB')\n",
    "    \n",
    "    img_array = np.array(img)\n",
    "    img_array = img_array.astype('float32') / 255.0\n",
    "    img_array = np.expand_dims(img_array, axis=0)\n",
    "    return img_array"
   ]
  },
  {
   "cell_type": "code",
   "execution_count": 27,
   "metadata": {},
   "outputs": [],
   "source": [
    "# List of class names\n",
    "class_names = ['cats','dogs']"
   ]
  },
  {
   "cell_type": "code",
   "execution_count": 30,
   "metadata": {},
   "outputs": [
    {
     "name": "stdout",
     "output_type": "stream",
     "text": [
      "1/1 [==============================] - 0s 27ms/step\n",
      "Predicted class: dogs\n"
     ]
    }
   ],
   "source": [
    "# Predict the class\n",
    "image_path = 'predictions/cat_or_dog_1.jpg'\n",
    "input_image = preprocess_image(image_path)\n",
    "predictions = model.predict(input_image)\n",
    "\n",
    "predicted_class = np.argmax(predictions)\n",
    "predicted_class_name = class_names[predicted_class]\n",
    "\n",
    "print(\"Predicted class:\", predicted_class_name)"
   ]
  },
  {
   "cell_type": "code",
   "execution_count": 31,
   "metadata": {},
   "outputs": [
    {
     "name": "stdout",
     "output_type": "stream",
     "text": [
      "1/1 [==============================] - 0s 24ms/step\n",
      "Predicted class: cats\n"
     ]
    }
   ],
   "source": [
    "image_path = 'predictions/cat_or_dog_2.jpg'\n",
    "input_image = preprocess_image(image_path)\n",
    "predictions = model.predict(input_image)\n",
    "\n",
    "predicted_class = np.argmax(predictions)\n",
    "predicted_class_name = class_names[predicted_class]\n",
    "\n",
    "print(\"Predicted class:\", predicted_class_name)"
   ]
  }
 ],
 "metadata": {
  "kernelspec": {
   "display_name": "Python 3",
   "language": "python",
   "name": "python3"
  },
  "language_info": {
   "codemirror_mode": {
    "name": "ipython",
    "version": 3
   },
   "file_extension": ".py",
   "mimetype": "text/x-python",
   "name": "python",
   "nbconvert_exporter": "python",
   "pygments_lexer": "ipython3",
   "version": "3.11.5"
  }
 },
 "nbformat": 4,
 "nbformat_minor": 2
}
